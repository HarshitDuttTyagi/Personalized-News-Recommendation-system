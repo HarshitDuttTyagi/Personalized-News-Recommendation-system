{
 "cells": [
  {
   "cell_type": "code",
   "execution_count": 1,
   "id": "2e992a55",
   "metadata": {},
   "outputs": [],
   "source": [
    "import numpy as np\n",
    "import pandas as pd\n",
    "news= pd.read_csv('news.tsv',engine='python',sep='\\\\t', index_col=False)\n",
    "news.columns = ['News_ID', 'Category', 'SubCategory', 'Title','Abstract', 'URL', 'Title_Entities', 'Abstract_Entities']"
   ]
  },
  {
   "cell_type": "code",
   "execution_count": 2,
   "id": "adce4c4e",
   "metadata": {},
   "outputs": [
    {
     "data": {
      "text/html": [
       "<div>\n",
       "<style scoped>\n",
       "    .dataframe tbody tr th:only-of-type {\n",
       "        vertical-align: middle;\n",
       "    }\n",
       "\n",
       "    .dataframe tbody tr th {\n",
       "        vertical-align: top;\n",
       "    }\n",
       "\n",
       "    .dataframe thead th {\n",
       "        text-align: right;\n",
       "    }\n",
       "</style>\n",
       "<table border=\"1\" class=\"dataframe\">\n",
       "  <thead>\n",
       "    <tr style=\"text-align: right;\">\n",
       "      <th></th>\n",
       "      <th>News_ID</th>\n",
       "      <th>Category</th>\n",
       "      <th>SubCategory</th>\n",
       "      <th>Title</th>\n",
       "      <th>Abstract</th>\n",
       "      <th>URL</th>\n",
       "      <th>Title_Entities</th>\n",
       "      <th>Abstract_Entities</th>\n",
       "    </tr>\n",
       "  </thead>\n",
       "  <tbody>\n",
       "    <tr>\n",
       "      <th>0</th>\n",
       "      <td>N45436</td>\n",
       "      <td>news</td>\n",
       "      <td>newsscienceandtechnology</td>\n",
       "      <td>Walmart Slashes Prices on Last-Generation iPads</td>\n",
       "      <td>Apple's new iPad releases bring big deals on l...</td>\n",
       "      <td>https://assets.msn.com/labs/mind/AABmf2I.html</td>\n",
       "      <td>[{\"Label\": \"IPad\", \"Type\": \"J\", \"WikidataId\": ...</td>\n",
       "      <td>[{\"Label\": \"IPad\", \"Type\": \"J\", \"WikidataId\": ...</td>\n",
       "    </tr>\n",
       "    <tr>\n",
       "      <th>1</th>\n",
       "      <td>N23144</td>\n",
       "      <td>health</td>\n",
       "      <td>weightloss</td>\n",
       "      <td>50 Worst Habits For Belly Fat</td>\n",
       "      <td>These seemingly harmless habits are holding yo...</td>\n",
       "      <td>https://assets.msn.com/labs/mind/AAB19MK.html</td>\n",
       "      <td>[{\"Label\": \"Adipose tissue\", \"Type\": \"C\", \"Wik...</td>\n",
       "      <td>[{\"Label\": \"Adipose tissue\", \"Type\": \"C\", \"Wik...</td>\n",
       "    </tr>\n",
       "    <tr>\n",
       "      <th>2</th>\n",
       "      <td>N86255</td>\n",
       "      <td>health</td>\n",
       "      <td>medical</td>\n",
       "      <td>Dispose of unwanted prescription drugs during ...</td>\n",
       "      <td>NaN</td>\n",
       "      <td>https://assets.msn.com/labs/mind/AAISxPN.html</td>\n",
       "      <td>[{\"Label\": \"Drug Enforcement Administration\", ...</td>\n",
       "      <td>[]</td>\n",
       "    </tr>\n",
       "    <tr>\n",
       "      <th>3</th>\n",
       "      <td>N93187</td>\n",
       "      <td>news</td>\n",
       "      <td>newsworld</td>\n",
       "      <td>The Cost of Trump's Aid Freeze in the Trenches...</td>\n",
       "      <td>Lt. Ivan Molchanets peeked over a parapet of s...</td>\n",
       "      <td>https://assets.msn.com/labs/mind/AAJgNsz.html</td>\n",
       "      <td>[]</td>\n",
       "      <td>[{\"Label\": \"Ukraine\", \"Type\": \"G\", \"WikidataId...</td>\n",
       "    </tr>\n",
       "    <tr>\n",
       "      <th>4</th>\n",
       "      <td>N75236</td>\n",
       "      <td>health</td>\n",
       "      <td>voices</td>\n",
       "      <td>I Was An NBA Wife. Here's How It Affected My M...</td>\n",
       "      <td>I felt like I was a fraud, and being an NBA wi...</td>\n",
       "      <td>https://assets.msn.com/labs/mind/AACk2N6.html</td>\n",
       "      <td>[]</td>\n",
       "      <td>[{\"Label\": \"National Basketball Association\", ...</td>\n",
       "    </tr>\n",
       "    <tr>\n",
       "      <th>...</th>\n",
       "      <td>...</td>\n",
       "      <td>...</td>\n",
       "      <td>...</td>\n",
       "      <td>...</td>\n",
       "      <td>...</td>\n",
       "      <td>...</td>\n",
       "      <td>...</td>\n",
       "      <td>...</td>\n",
       "    </tr>\n",
       "    <tr>\n",
       "      <th>101521</th>\n",
       "      <td>N115249</td>\n",
       "      <td>sports</td>\n",
       "      <td>more_sports</td>\n",
       "      <td>St. Dominic soccer player tries to kick cancer...</td>\n",
       "      <td>Sometimes, what happens on the sidelines can b...</td>\n",
       "      <td>https://assets.msn.com/labs/mind/BBWzQnK.html</td>\n",
       "      <td>[]</td>\n",
       "      <td>[]</td>\n",
       "    </tr>\n",
       "    <tr>\n",
       "      <th>101522</th>\n",
       "      <td>N64337</td>\n",
       "      <td>finance</td>\n",
       "      <td>finance-real-estate</td>\n",
       "      <td>Mansion Monday: Contemporary Des Moines home i...</td>\n",
       "      <td>Among the perks of this unique Des Moines home...</td>\n",
       "      <td>https://assets.msn.com/labs/mind/BBWzQq8.html</td>\n",
       "      <td>[{\"Label\": \"Des Moines, Iowa\", \"Type\": \"G\", \"W...</td>\n",
       "      <td>[{\"Label\": \"Des Moines, Iowa\", \"Type\": \"G\", \"W...</td>\n",
       "    </tr>\n",
       "    <tr>\n",
       "      <th>101523</th>\n",
       "      <td>N100102</td>\n",
       "      <td>sports</td>\n",
       "      <td>soccer_epl</td>\n",
       "      <td>How the Sounders won MLS Cup</td>\n",
       "      <td>Mark, Jeremiah and Casey were so excited they ...</td>\n",
       "      <td>https://assets.msn.com/labs/mind/BBWzQuK.html</td>\n",
       "      <td>[{\"Label\": \"MLS Cup\", \"Type\": \"U\", \"WikidataId...</td>\n",
       "      <td>[]</td>\n",
       "    </tr>\n",
       "    <tr>\n",
       "      <th>101524</th>\n",
       "      <td>N74617</td>\n",
       "      <td>autos</td>\n",
       "      <td>autossports</td>\n",
       "      <td>Best Sports Car Deals for October</td>\n",
       "      <td>NaN</td>\n",
       "      <td>https://assets.msn.com/labs/mind/BBy5rVe.html</td>\n",
       "      <td>[{\"Label\": \"Peugeot RCZ\", \"Type\": \"V\", \"Wikida...</td>\n",
       "      <td>[]</td>\n",
       "    </tr>\n",
       "    <tr>\n",
       "      <th>101525</th>\n",
       "      <td>N56840</td>\n",
       "      <td>sports</td>\n",
       "      <td>more_sports</td>\n",
       "      <td>Shall we dance: Sports stars shake their leg</td>\n",
       "      <td>NaN</td>\n",
       "      <td>https://assets.msn.com/labs/mind/BBzMpnG.html</td>\n",
       "      <td>[]</td>\n",
       "      <td>[]</td>\n",
       "    </tr>\n",
       "  </tbody>\n",
       "</table>\n",
       "<p>101526 rows × 8 columns</p>\n",
       "</div>"
      ],
      "text/plain": [
       "        News_ID Category               SubCategory  \\\n",
       "0        N45436     news  newsscienceandtechnology   \n",
       "1        N23144   health                weightloss   \n",
       "2        N86255   health                   medical   \n",
       "3        N93187     news                 newsworld   \n",
       "4        N75236   health                    voices   \n",
       "...         ...      ...                       ...   \n",
       "101521  N115249   sports               more_sports   \n",
       "101522   N64337  finance       finance-real-estate   \n",
       "101523  N100102   sports                soccer_epl   \n",
       "101524   N74617    autos               autossports   \n",
       "101525   N56840   sports               more_sports   \n",
       "\n",
       "                                                    Title  \\\n",
       "0         Walmart Slashes Prices on Last-Generation iPads   \n",
       "1                           50 Worst Habits For Belly Fat   \n",
       "2       Dispose of unwanted prescription drugs during ...   \n",
       "3       The Cost of Trump's Aid Freeze in the Trenches...   \n",
       "4       I Was An NBA Wife. Here's How It Affected My M...   \n",
       "...                                                   ...   \n",
       "101521  St. Dominic soccer player tries to kick cancer...   \n",
       "101522  Mansion Monday: Contemporary Des Moines home i...   \n",
       "101523                       How the Sounders won MLS Cup   \n",
       "101524                  Best Sports Car Deals for October   \n",
       "101525       Shall we dance: Sports stars shake their leg   \n",
       "\n",
       "                                                 Abstract  \\\n",
       "0       Apple's new iPad releases bring big deals on l...   \n",
       "1       These seemingly harmless habits are holding yo...   \n",
       "2                                                     NaN   \n",
       "3       Lt. Ivan Molchanets peeked over a parapet of s...   \n",
       "4       I felt like I was a fraud, and being an NBA wi...   \n",
       "...                                                   ...   \n",
       "101521  Sometimes, what happens on the sidelines can b...   \n",
       "101522  Among the perks of this unique Des Moines home...   \n",
       "101523  Mark, Jeremiah and Casey were so excited they ...   \n",
       "101524                                                NaN   \n",
       "101525                                                NaN   \n",
       "\n",
       "                                                  URL  \\\n",
       "0       https://assets.msn.com/labs/mind/AABmf2I.html   \n",
       "1       https://assets.msn.com/labs/mind/AAB19MK.html   \n",
       "2       https://assets.msn.com/labs/mind/AAISxPN.html   \n",
       "3       https://assets.msn.com/labs/mind/AAJgNsz.html   \n",
       "4       https://assets.msn.com/labs/mind/AACk2N6.html   \n",
       "...                                               ...   \n",
       "101521  https://assets.msn.com/labs/mind/BBWzQnK.html   \n",
       "101522  https://assets.msn.com/labs/mind/BBWzQq8.html   \n",
       "101523  https://assets.msn.com/labs/mind/BBWzQuK.html   \n",
       "101524  https://assets.msn.com/labs/mind/BBy5rVe.html   \n",
       "101525  https://assets.msn.com/labs/mind/BBzMpnG.html   \n",
       "\n",
       "                                           Title_Entities  \\\n",
       "0       [{\"Label\": \"IPad\", \"Type\": \"J\", \"WikidataId\": ...   \n",
       "1       [{\"Label\": \"Adipose tissue\", \"Type\": \"C\", \"Wik...   \n",
       "2       [{\"Label\": \"Drug Enforcement Administration\", ...   \n",
       "3                                                      []   \n",
       "4                                                      []   \n",
       "...                                                   ...   \n",
       "101521                                                 []   \n",
       "101522  [{\"Label\": \"Des Moines, Iowa\", \"Type\": \"G\", \"W...   \n",
       "101523  [{\"Label\": \"MLS Cup\", \"Type\": \"U\", \"WikidataId...   \n",
       "101524  [{\"Label\": \"Peugeot RCZ\", \"Type\": \"V\", \"Wikida...   \n",
       "101525                                                 []   \n",
       "\n",
       "                                        Abstract_Entities  \n",
       "0       [{\"Label\": \"IPad\", \"Type\": \"J\", \"WikidataId\": ...  \n",
       "1       [{\"Label\": \"Adipose tissue\", \"Type\": \"C\", \"Wik...  \n",
       "2                                                      []  \n",
       "3       [{\"Label\": \"Ukraine\", \"Type\": \"G\", \"WikidataId...  \n",
       "4       [{\"Label\": \"National Basketball Association\", ...  \n",
       "...                                                   ...  \n",
       "101521                                                 []  \n",
       "101522  [{\"Label\": \"Des Moines, Iowa\", \"Type\": \"G\", \"W...  \n",
       "101523                                                 []  \n",
       "101524                                                 []  \n",
       "101525                                                 []  \n",
       "\n",
       "[101526 rows x 8 columns]"
      ]
     },
     "execution_count": 2,
     "metadata": {},
     "output_type": "execute_result"
    }
   ],
   "source": [
    "news"
   ]
  },
  {
   "cell_type": "code",
   "execution_count": 3,
   "id": "2371561d",
   "metadata": {},
   "outputs": [
    {
     "data": {
      "text/html": [
       "<div>\n",
       "<style scoped>\n",
       "    .dataframe tbody tr th:only-of-type {\n",
       "        vertical-align: middle;\n",
       "    }\n",
       "\n",
       "    .dataframe tbody tr th {\n",
       "        vertical-align: top;\n",
       "    }\n",
       "\n",
       "    .dataframe thead th {\n",
       "        text-align: right;\n",
       "    }\n",
       "</style>\n",
       "<table border=\"1\" class=\"dataframe\">\n",
       "  <thead>\n",
       "    <tr style=\"text-align: right;\">\n",
       "      <th></th>\n",
       "      <th>News_ID</th>\n",
       "      <th>Category</th>\n",
       "      <th>SubCategory</th>\n",
       "      <th>Title</th>\n",
       "      <th>Abstract</th>\n",
       "      <th>URL</th>\n",
       "      <th>Title_Entities</th>\n",
       "      <th>Abstract_Entities</th>\n",
       "    </tr>\n",
       "  </thead>\n",
       "  <tbody>\n",
       "    <tr>\n",
       "      <th>count</th>\n",
       "      <td>10000</td>\n",
       "      <td>10000</td>\n",
       "      <td>10000</td>\n",
       "      <td>10000</td>\n",
       "      <td>9557</td>\n",
       "      <td>10000</td>\n",
       "      <td>10000</td>\n",
       "      <td>10000</td>\n",
       "    </tr>\n",
       "    <tr>\n",
       "      <th>unique</th>\n",
       "      <td>10000</td>\n",
       "      <td>15</td>\n",
       "      <td>193</td>\n",
       "      <td>9891</td>\n",
       "      <td>9367</td>\n",
       "      <td>10000</td>\n",
       "      <td>6691</td>\n",
       "      <td>6716</td>\n",
       "    </tr>\n",
       "    <tr>\n",
       "      <th>top</th>\n",
       "      <td>N45436</td>\n",
       "      <td>sports</td>\n",
       "      <td>football_nfl</td>\n",
       "      <td>Powerball Winning Numbers For 10/12/2019 Drawi...</td>\n",
       "      <td>What's the weather today? What's the weather f...</td>\n",
       "      <td>https://assets.msn.com/labs/mind/AABmf2I.html</td>\n",
       "      <td>[]</td>\n",
       "      <td>[]</td>\n",
       "    </tr>\n",
       "    <tr>\n",
       "      <th>freq</th>\n",
       "      <td>1</td>\n",
       "      <td>2782</td>\n",
       "      <td>1111</td>\n",
       "      <td>6</td>\n",
       "      <td>30</td>\n",
       "      <td>1</td>\n",
       "      <td>3052</td>\n",
       "      <td>3168</td>\n",
       "    </tr>\n",
       "  </tbody>\n",
       "</table>\n",
       "</div>"
      ],
      "text/plain": [
       "       News_ID Category   SubCategory  \\\n",
       "count    10000    10000         10000   \n",
       "unique   10000       15           193   \n",
       "top     N45436   sports  football_nfl   \n",
       "freq         1     2782          1111   \n",
       "\n",
       "                                                    Title  \\\n",
       "count                                               10000   \n",
       "unique                                               9891   \n",
       "top     Powerball Winning Numbers For 10/12/2019 Drawi...   \n",
       "freq                                                    6   \n",
       "\n",
       "                                                 Abstract  \\\n",
       "count                                                9557   \n",
       "unique                                               9367   \n",
       "top     What's the weather today? What's the weather f...   \n",
       "freq                                                   30   \n",
       "\n",
       "                                                  URL Title_Entities  \\\n",
       "count                                           10000          10000   \n",
       "unique                                          10000           6691   \n",
       "top     https://assets.msn.com/labs/mind/AABmf2I.html             []   \n",
       "freq                                                1           3052   \n",
       "\n",
       "       Abstract_Entities  \n",
       "count              10000  \n",
       "unique              6716  \n",
       "top                   []  \n",
       "freq                3168  "
      ]
     },
     "execution_count": 3,
     "metadata": {},
     "output_type": "execute_result"
    }
   ],
   "source": [
    "news.drop(news.index[10000:], inplace=True)\n",
    "news.describe()"
   ]
  },
  {
   "cell_type": "code",
   "execution_count": 4,
   "id": "fbec8dd5",
   "metadata": {},
   "outputs": [
    {
     "data": {
      "text/plain": [
       "News_ID                0\n",
       "Category               0\n",
       "SubCategory            0\n",
       "Title                  0\n",
       "Abstract             443\n",
       "URL                    0\n",
       "Title_Entities         0\n",
       "Abstract_Entities      0\n",
       "dtype: int64"
      ]
     },
     "execution_count": 4,
     "metadata": {},
     "output_type": "execute_result"
    }
   ],
   "source": [
    "news.isnull().sum()"
   ]
  },
  {
   "cell_type": "code",
   "execution_count": 5,
   "id": "382d9753",
   "metadata": {},
   "outputs": [],
   "source": [
    "news.dropna(inplace=True)"
   ]
  },
  {
   "cell_type": "code",
   "execution_count": 6,
   "id": "bc735974",
   "metadata": {},
   "outputs": [
    {
     "data": {
      "text/plain": [
       "'[{\"Label\": \"IPad\", \"Type\": \"J\", \"WikidataId\": \"Q2796\", \"Confidence\": 0.999, \"OccurrenceOffsets\": [42], \"SurfaceForms\": [\"iPads\"]}, {\"Label\": \"Walmart\", \"Type\": \"O\", \"WikidataId\": \"Q483551\", \"Confidence\": 1.0, \"OccurrenceOffsets\": [0], \"SurfaceForms\": [\"Walmart\"]}]'"
      ]
     },
     "execution_count": 6,
     "metadata": {},
     "output_type": "execute_result"
    }
   ],
   "source": [
    "news.iloc[0].Title_Entities"
   ]
  },
  {
   "cell_type": "code",
   "execution_count": 7,
   "id": "2736bc98",
   "metadata": {},
   "outputs": [],
   "source": [
    "import ast\n",
    "def convert(obj):\n",
    "    l=[]\n",
    "    for i in ast.literal_eval(obj):\n",
    "        l.append(i['Label'])\n",
    "    return l"
   ]
  },
  {
   "cell_type": "code",
   "execution_count": 8,
   "id": "b24fb0b5",
   "metadata": {},
   "outputs": [
    {
     "data": {
      "text/plain": [
       "['IPad', 'Walmart']"
      ]
     },
     "execution_count": 8,
     "metadata": {},
     "output_type": "execute_result"
    }
   ],
   "source": [
    "news['Title_Entities']=news['Title_Entities'].apply(convert)\n",
    "news['Abstract_Entities']=news['Abstract_Entities'].apply(convert)\n",
    "\n",
    "news.iloc[0].Title_Entities"
   ]
  },
  {
   "cell_type": "code",
   "execution_count": 9,
   "id": "948d8a9c",
   "metadata": {},
   "outputs": [],
   "source": [
    "news['Abstract']=news['Abstract'].apply(lambda x:x.split())\n",
    "news['Title2']=news['Title'].apply(lambda x:x.split())"
   ]
  },
  {
   "cell_type": "code",
   "execution_count": 10,
   "id": "58eea150",
   "metadata": {},
   "outputs": [],
   "source": [
    "news['Abstract_Entities']=news['Abstract_Entities'].apply(lambda x: [i.replace(\" \",\"\") for i in x])\n",
    "news['Title_Entities']=news['Title_Entities'].apply(lambda x: [i.replace(\" \",\"\") for i in x])"
   ]
  },
  {
   "cell_type": "code",
   "execution_count": 11,
   "id": "6cbf1c03",
   "metadata": {},
   "outputs": [],
   "source": [
    "news['Category']=news['Category'].apply(lambda word: [word])\n",
    "news['SubCategory']=news['SubCategory'].apply(lambda word: [word])"
   ]
  },
  {
   "cell_type": "code",
   "execution_count": 12,
   "id": "31a10ae7",
   "metadata": {},
   "outputs": [
    {
     "data": {
      "text/plain": [
       "News_ID                                                         N45436\n",
       "Category                                                        [news]\n",
       "SubCategory                                 [newsscienceandtechnology]\n",
       "Title                  Walmart Slashes Prices on Last-Generation iPads\n",
       "Abstract             [Apple's, new, iPad, releases, bring, big, dea...\n",
       "URL                      https://assets.msn.com/labs/mind/AABmf2I.html\n",
       "Title_Entities                                         [IPad, Walmart]\n",
       "Abstract_Entities                                    [IPad, AppleInc.]\n",
       "Title2               [Walmart, Slashes, Prices, on, Last-Generation...\n",
       "Name: 0, dtype: object"
      ]
     },
     "execution_count": 12,
     "metadata": {},
     "output_type": "execute_result"
    }
   ],
   "source": [
    "news.iloc[0]"
   ]
  },
  {
   "cell_type": "code",
   "execution_count": 13,
   "id": "88c536d3",
   "metadata": {},
   "outputs": [
    {
     "data": {
      "text/plain": [
       "['IPad',\n",
       " 'AppleInc.',\n",
       " \"Apple's\",\n",
       " 'new',\n",
       " 'iPad',\n",
       " 'releases',\n",
       " 'bring',\n",
       " 'big',\n",
       " 'deals',\n",
       " 'on',\n",
       " 'last',\n",
       " \"year's\",\n",
       " 'models.',\n",
       " 'IPad',\n",
       " 'Walmart',\n",
       " 'Walmart',\n",
       " 'Slashes',\n",
       " 'Prices',\n",
       " 'on',\n",
       " 'Last-Generation',\n",
       " 'iPads',\n",
       " 'news',\n",
       " 'newsscienceandtechnology']"
      ]
     },
     "execution_count": 13,
     "metadata": {},
     "output_type": "execute_result"
    }
   ],
   "source": [
    "news['tags']=news['Abstract_Entities']+news['Abstract']+news['Title_Entities']+news['Title2']+news['Category']+news['SubCategory']\n",
    "news.iloc[0].tags"
   ]
  },
  {
   "cell_type": "code",
   "execution_count": 14,
   "id": "17330e38",
   "metadata": {},
   "outputs": [],
   "source": [
    "df=news[['News_ID','URL','Title','tags']]\n",
    "df.reset_index(drop=True, inplace=True) "
   ]
  },
  {
   "cell_type": "code",
   "execution_count": 15,
   "id": "76db103c",
   "metadata": {},
   "outputs": [],
   "source": [
    "import nltk\n",
    "from nltk.stem import PorterStemmer\n",
    "from nltk.corpus import stopwords\n",
    "import re\n",
    "ps=PorterStemmer()\n",
    "stop_words = set(stopwords.words('english'))"
   ]
  },
  {
   "cell_type": "code",
   "execution_count": 16,
   "id": "04d357e8",
   "metadata": {},
   "outputs": [
    {
     "name": "stderr",
     "output_type": "stream",
     "text": [
      "C:\\Users\\Acer\\AppData\\Local\\Temp\\ipykernel_19836\\1984400725.py:1: SettingWithCopyWarning: \n",
      "A value is trying to be set on a copy of a slice from a DataFrame.\n",
      "Try using .loc[row_indexer,col_indexer] = value instead\n",
      "\n",
      "See the caveats in the documentation: https://pandas.pydata.org/pandas-docs/stable/user_guide/indexing.html#returning-a-view-versus-a-copy\n",
      "  df['tags']=df['tags'].apply(lambda x:\" \".join(x))\n",
      "C:\\Users\\Acer\\AppData\\Local\\Temp\\ipykernel_19836\\1984400725.py:2: SettingWithCopyWarning: \n",
      "A value is trying to be set on a copy of a slice from a DataFrame.\n",
      "Try using .loc[row_indexer,col_indexer] = value instead\n",
      "\n",
      "See the caveats in the documentation: https://pandas.pydata.org/pandas-docs/stable/user_guide/indexing.html#returning-a-view-versus-a-copy\n",
      "  df['tags']=df['tags'].apply(lambda x:x.lower())\n",
      "C:\\Users\\Acer\\AppData\\Local\\Temp\\ipykernel_19836\\1984400725.py:3: SettingWithCopyWarning: \n",
      "A value is trying to be set on a copy of a slice from a DataFrame.\n",
      "Try using .loc[row_indexer,col_indexer] = value instead\n",
      "\n",
      "See the caveats in the documentation: https://pandas.pydata.org/pandas-docs/stable/user_guide/indexing.html#returning-a-view-versus-a-copy\n",
      "  df['tags']=df['tags'].apply(lambda x:re.sub(r'[^a-zA-Z\\s]',\"\",x))\n",
      "C:\\Users\\Acer\\AppData\\Local\\Temp\\ipykernel_19836\\1984400725.py:4: SettingWithCopyWarning: \n",
      "A value is trying to be set on a copy of a slice from a DataFrame.\n",
      "Try using .loc[row_indexer,col_indexer] = value instead\n",
      "\n",
      "See the caveats in the documentation: https://pandas.pydata.org/pandas-docs/stable/user_guide/indexing.html#returning-a-view-versus-a-copy\n",
      "  df['tags']=df['tags'].apply(lambda x: ' '.join([ps.stem(word) for word in x.split() if word not in stop_words]))\n"
     ]
    }
   ],
   "source": [
    "df['tags']=df['tags'].apply(lambda x:\" \".join(x))\n",
    "df['tags']=df['tags'].apply(lambda x:x.lower())\n",
    "df['tags']=df['tags'].apply(lambda x:re.sub(r'[^a-zA-Z\\s]',\"\",x))\n",
    "df['tags']=df['tags'].apply(lambda x: ' '.join([ps.stem(word) for word in x.split() if word not in stop_words]))"
   ]
  },
  {
   "cell_type": "code",
   "execution_count": 17,
   "id": "8815ddd2",
   "metadata": {},
   "outputs": [
    {
     "data": {
      "text/plain": [
       "array(['aa', 'aaa', 'aaarrggh', ..., 'zuckerberg', 'zurawik', 'zx'],\n",
       "      dtype=object)"
      ]
     },
     "execution_count": 17,
     "metadata": {},
     "output_type": "execute_result"
    }
   ],
   "source": [
    "from sklearn.feature_extraction.text import CountVectorizer\n",
    "cv=CountVectorizer()\n",
    "bow=cv.fit_transform(df['tags']).toarray()\n",
    "cv.get_feature_names_out()"
   ]
  },
  {
   "cell_type": "code",
   "execution_count": 18,
   "id": "3a8731e5",
   "metadata": {},
   "outputs": [
    {
     "data": {
      "text/plain": [
       "(9557,)"
      ]
     },
     "execution_count": 18,
     "metadata": {},
     "output_type": "execute_result"
    }
   ],
   "source": [
    "from sklearn.metrics.pairwise import cosine_similarity\n",
    "sim=cosine_similarity(bow)\n",
    "sim[0].shape"
   ]
  },
  {
   "cell_type": "code",
   "execution_count": 19,
   "id": "3d17606f",
   "metadata": {},
   "outputs": [],
   "source": [
    "def recommend(newss):\n",
    "    news_idx= df[df['News_ID']== newss].index[0]\n",
    "    lit=sorted(list(zip(df['News_ID'].tolist(),sim[news_idx].tolist())),reverse=True,key=lambda x:x[1])[0:6]\n",
    "    for i in lit:\n",
    "        x=df[df['News_ID']==i[0]].index[0]\n",
    "        print(df.iloc[x].Title+\"\\n\")\n",
    "        if(x==news_idx):\n",
    "            print(\"\\nRECOMMENDATIONS:\")"
   ]
  },
  {
   "cell_type": "code",
   "execution_count": 20,
   "id": "5e667baa",
   "metadata": {},
   "outputs": [
    {
     "name": "stdout",
     "output_type": "stream",
     "text": [
      "I Was An NBA Wife. Here's How It Affected My Mental Health.\n",
      "\n",
      "\n",
      "RECOMMENDATIONS:\n",
      "Health problems treated by acupuncture\n",
      "\n",
      "How To Reach Out If Your Friend Is Struggling With Their Mental Health\n",
      "\n",
      "Injuries Across the NBA\n",
      "\n",
      "Ranking all 30 NBA head coaches\n",
      "\n",
      "Women's mental health improves after giving up alcohol, study finds\n",
      "\n"
     ]
    }
   ],
   "source": [
    "recommend('N75236')"
   ]
  },
  {
   "cell_type": "code",
   "execution_count": 21,
   "id": "af6d3167",
   "metadata": {},
   "outputs": [],
   "source": [
    "import pickle"
   ]
  },
  {
   "cell_type": "code",
   "execution_count": 22,
   "id": "44e9f0c6",
   "metadata": {},
   "outputs": [],
   "source": [
    "df.to_pickle('my_dataframe.pkl')\n",
    "with open('simmilarity.pkl', 'wb') as file_object:\n",
    "    pickle.dump(sim, file_object)"
   ]
  },
  {
   "cell_type": "code",
   "execution_count": null,
   "id": "20a1dcf8",
   "metadata": {},
   "outputs": [],
   "source": []
  }
 ],
 "metadata": {
  "kernelspec": {
   "display_name": "Python 3 (ipykernel)",
   "language": "python",
   "name": "python3"
  },
  "language_info": {
   "codemirror_mode": {
    "name": "ipython",
    "version": 3
   },
   "file_extension": ".py",
   "mimetype": "text/x-python",
   "name": "python",
   "nbconvert_exporter": "python",
   "pygments_lexer": "ipython3",
   "version": "3.11.4"
  }
 },
 "nbformat": 4,
 "nbformat_minor": 5
}
